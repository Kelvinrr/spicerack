{
 "cells": [
  {
   "cell_type": "code",
   "execution_count": 5,
   "metadata": {},
   "outputs": [
    {
     "name": "stdout",
     "output_type": "stream",
     "text": [
      "Dataframe1 Hash Value: 8217439502759746249\n",
      "Dataframe2 Hash Value: 8217439502759746249\n",
      "Difference between D1 and D2: 0\n"
     ]
    }
   ],
   "source": [
    "# This snippet of code demonstrates the prototype for hashing\n",
    "# a given filesystem and storing the values in a dataframe\n",
    "\n",
    "# Need anaconda enviorment, pandas dataframe = 'pd'\n",
    "import pandas as pd\n",
    "import os\n",
    "\n",
    "# Note for dockerfile: pip install pyfarmhash\n",
    "import farmhash\n",
    "\n",
    "# Opens file from current directory\n",
    "file1_data = open('file1.txt')\n",
    "file1_copy = open(\"test/file1.txt\")\n",
    "\n",
    "# Read and assign the contents to a variable\n",
    "file1_data = file1_data.read()\n",
    "file1_copy_data = file1_copy.read()\n",
    "\n",
    "# Setup Dataframe1 from file1 contents\n",
    "data1 = {'File': [file1_data]}\n",
    "dataf1 = pd.DataFrame(data=data1)\n",
    "\n",
    "# Setup Dataframe from file1 in the subdirectory contents\n",
    "data2 = {'File': [file1_copy_data]}\n",
    "dataf2 = pd.DataFrame(data=data2)\n",
    "\n",
    "# Hash the dataframe values\n",
    "d1_hash = farmhash.hash64(str(dataf1.values))\n",
    "d2_hash = farmhash.hash64(str(dataf2.values))\n",
    "\n",
    "# Show the output of both dataframe hashes\n",
    "print('Dataframe1 Hash Value: {}'.format(d1_hash))\n",
    "print('Dataframe2 Hash Value: {}'.format(d2_hash))\n",
    "print('Difference between D1 and D2: {}'.format(d2_hash - d1_hash))"
   ]
  },
  {
   "cell_type": "markdown",
   "metadata": {
    "collapsed": true
   },
   "source": []
  },
  {
   "cell_type": "code",
   "execution_count": null,
   "metadata": {
    "collapsed": true
   },
   "outputs": [],
   "source": [
    "datadict = {'Filename' : [], 'Hash Value' : []}\n",
    "for root, subdir, files in os.walk(\"~/Desktop/spicerack/test\"):\n",
    "    for name in files:\n",
    "        if not name[0] == \".\": # ignore hidden files\n",
    "            filename = os.path.join(root, name)\n",
    "            file = open(filename).read()\n",
    "            datadict['Filename'].append(filename)\n",
    "            datadict['Hash Value'].append(farmhash.hash64(file))\n",
    "dataframe = pd.DataFrame(datadict)\n",
    "print(dataframe)"
   ]
  },
  {
   "cell_type": "code",
   "execution_count": null,
   "metadata": {
    "collapsed": true
   },
   "outputs": [],
   "source": []
  }
 ],
 "metadata": {
  "kernelspec": {
   "display_name": "Python 3",
   "language": "python",
   "name": "python3"
  },
  "language_info": {
   "codemirror_mode": {
    "name": "ipython",
    "version": 3
   },
   "file_extension": ".py",
   "mimetype": "text/x-python",
   "name": "python",
   "nbconvert_exporter": "python",
   "pygments_lexer": "ipython3",
   "version": "3.6.1"
  }
 },
 "nbformat": 4,
 "nbformat_minor": 2
}
