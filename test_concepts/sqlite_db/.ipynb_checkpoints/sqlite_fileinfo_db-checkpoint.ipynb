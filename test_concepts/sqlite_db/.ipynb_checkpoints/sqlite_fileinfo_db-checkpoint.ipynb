{
 "cells": [
  {
   "cell_type": "code",
   "execution_count": 3,
   "metadata": {
    "collapsed": true
   },
   "outputs": [],
   "source": [
    "# Demo for synchronization of two data directories\n",
    "import os\n",
    "import io\n",
    "import pandas as pd\n",
    "import numpy as np\n",
    "import farmhash\n",
    "import time\n",
    "import sqlite3\n",
    "import json"
   ]
  },
  {
   "cell_type": "code",
   "execution_count": 178,
   "metadata": {
    "collapsed": true
   },
   "outputs": [],
   "source": [
    "missions_readable = {   \"clem1-l-spice-6-v1.0\"       : \"clementine\",\n",
    "                        \"co-s_j_e_v-spice-6-v1.0\"    : \"cassini_orbiter\",\n",
    "                        \"dawn-m_a-spice-6-v1.0\"      : \"dawn\",\n",
    "                        \"di-c-spice-6-v1.0\"          : \"deep_impact\",\n",
    "                        \"dif-c_e_x-spice-6-v1.0\"     : \"epoxi\",\n",
    "                        \"ds1-a_c-spice-6-v1.0\"       : \"deep_space_1\",\n",
    "                        \"grail-l-spice-6-v1.0\"       : \"grail\",\n",
    "                        \"hay-a-spice-6-v1.0\"         : \"hayabusa\",\n",
    "                        \"jno-j_e_ss-spice-6-v1.0\"    : \"juno\",\n",
    "                        \"lro-l-spice-6-v1.0\"         : \"lunar_reconnaissance_orbiter\",\n",
    "                        \"mer1-m-spice-6-v1.0\"        : \"mer_1\",\n",
    "                        \"mer2-m-spice-6-v1.0\"        : \"mer_2\",\n",
    "                        \"mess-e_v_h-spice-6-v1.0\"    : \"messenger\",\n",
    "                        \"mex-e_m-spice-6-v1.0\"       : \"mars_express\",\n",
    "                        \"mgs-m-spice-6-v1.0\"         : \"mars_global_surveyor\",\n",
    "                        \"mro-m-spice-6-v1.0\"         : \"mars_reconnaissance_orbiter\",\n",
    "                        \"msl-m-spice-6-v1.0\"         : \"mars_science_laboratory\",\n",
    "                        \"near-a-spice-6-v1.0\"        : \"near\",\n",
    "                        \"nh-j_p_ss-spice-6-v1.0\"     : \"new_horizons\",\n",
    "                        \"ody-m-spice-6-v1.0\"         : \"mars_odyssey\",\n",
    "                        \"ros-e_m_a_c-spice-6-v1.0\"   : \"rosetta\",\n",
    "                        \"sdu-c-spice-6-v1.0\"         : \"stardust\",\n",
    "                        \"vco-v-spice-6-v1.0\"         : \"venus_climate_orbiter\",\n",
    "                        \"vex-e_v-spice-6-v1.0\"       : \"venus_express\",\n",
    "                        \"vo1_vo2-m-spice-6-v1.0\"     : \"viking_orbiter\"}\n",
    "\n",
    "missions_true = {value: key for key, value in missions_readable.items()}"
   ]
  },
  {
   "cell_type": "code",
   "execution_count": 181,
   "metadata": {},
   "outputs": [
    {
     "name": "stdout",
     "output_type": "stream",
     "text": [
      "elapsed time:  0.012140035629272461\n",
      "                                                                    Hash\n",
      "./spice_data                                                            \n",
      "/clem1-l-spice-6-v1.0/ck/testfile1.txt              13167233149662072294\n",
      "/clem1-l-spice-6-v1.0/ck/testfile2.txt               2116770068367243914\n",
      "/clem1-l-spice-6-v1.0/ck/testfile3.txt              10117441339441774812\n",
      "/clem1-l-spice-6-v1.0/ck/testfile4.txt                407662078023551858\n",
      "/clem1-l-spice-6-v1.0/ck/testdir1A/testfile1A.txt    1855841718642996950\n",
      "/mess-e_v_h-spice-6-v1.0/ck/testfile1.txt           13167233149662072294\n",
      "/mess-e_v_h-spice-6-v1.0/ck/testfile2.txt            2116770068367243914\n",
      "/mess-e_v_h-spice-6-v1.0/ck/testfile3.txt           10117441339441774812\n",
      "/mess-e_v_h-spice-6-v1.0/ck/testfile4.txt             407662078023551858\n",
      "/mess-e_v_h-spice-6-v1.0/ck/testdir1A/testfile1...   1855841718642996950\n"
     ]
    }
   ],
   "source": [
    "def create_dirdf(directory):\n",
    "    if not os.path.exists(directory):\n",
    "        print(\"Error: Directory '\" + directory + \"' does not exist.\")\n",
    "        return\n",
    "    \n",
    "    filenames = []\n",
    "    hashvalues = []\n",
    "    \n",
    "    for root, subdir, files in os.walk(directory):\n",
    "        for name in files:\n",
    "            if not name[0] == \".\": # ignore hidden files\n",
    "                filepath = os.path.join(root, name)\n",
    "                \n",
    "                # hash full file contents\n",
    "                # note: spice data encoding is mixed, so read as binary\n",
    "                file = str(io.open(filepath,'rb').read()) \n",
    "                filenames.append(filepath.split(directory, 1)[1])\n",
    "                hashvalues.append(farmhash.hash64(file))\n",
    "                \n",
    "    df = pd.DataFrame(data=hashvalues, index = filenames, columns = [\"Hash\"])\n",
    "    df.index.name = directory\n",
    "    return df\n",
    "\n",
    "start = time.time()\n",
    "dir1df = create_dirdf(\"./spice_data\")\n",
    "print(\"elapsed time: \", time.time() - start)\n",
    "print(dir1df)"
   ]
  },
  {
   "cell_type": "code",
   "execution_count": null,
   "metadata": {
    "collapsed": true
   },
   "outputs": [],
   "source": [
    "def newest(path):\n",
    "    files = glob.glob(path + '*.tm')\n",
    "    metakernels = []\n",
    "    sorted_mk = {}\n",
    "    newest_mk = []\n",
    "    \n",
    "    for f in files:\n",
    "        meta = f.split('mk/')\n",
    "        metakernels.append(meta[1])\n",
    "\n",
    "    for mk in metakernels:\n",
    "        version = re.search('v[0-9]+', mk)\n",
    "        version1 = re.search('([^;]*)_([^;]*)_', mk)\n",
    "        newest_mk.append(version.group(0))\n",
    "        sorted_mk[version1.group(0)] = version.group(0)\n",
    "    \n",
    "    return sorted_mk\n",
    "\n",
    "print(newest('/Users/thatcher/Desktop/Classes/Capstone/SpiceData/mess-e_v_h-spice-6-v1.0/messsp_1000/extras/mk/'))"
   ]
  },
  {
   "cell_type": "code",
   "execution_count": 45,
   "metadata": {},
   "outputs": [
    {
     "name": "stdout",
     "output_type": "stream",
     "text": [
      "{'mdis_cklist_': 'v02', 'msgr_2004_': 'v13', 'msgr_2005_': 'v13', 'msgr_2006_': 'v13', 'msgr_2007_': 'v13', 'msgr_2008_': 'v12', 'msgr_2009_': 'v10', 'msgr_2010_': 'v09', 'msgr_2011_': 'v10', 'msgr_2012_': 'v08', 'msgr_2013_': 'v06', 'msgr_2014_': 'v04', 'msgr_2015_': 'v02'}\n"
     ]
    }
   ],
   "source": [
    "def create_spicedb(spdir):\n",
    "    \n",
    "    if os.path.exists('./spicedb.sqlite'):\n",
    "        os.remove('./spicedb.sqlite')\n",
    "        \n",
    "    if not os.path.exists(spdir):\n",
    "        print(\"Error: Directory '\" + spdir + \"' does not exist.\")\n",
    "        return\n",
    "    \n",
    "    conn = sqlite3.connect('./spicedb.sqlite') # initialize db, this might move to an init func in the api\n",
    "    c = conn.cursor()\n",
    "    \n",
    "    c.execute(\"CREATE TABLE SPICE (Mission TEXT)\") # create missions table\n",
    "    c.execute(\"ALTER TABLE SPICE ADD COLUMN Kernel TEXT\")\n",
    "    c.execute(\"ALTER TABLE SPICE ADD COLUMN File TEXT\")\n",
    "    c.execute(\"ALTER TABLE SPICE ADD COLUMN Path TEXT\")\n",
    "    c.execute(\"ALTER TABLE SPICE ADD COLUMN Hash TEXT\") #theres probs a way to to this in one line\n",
    "    c.execute(\"ALTER TABLE SPICE ADD COLUMN Newest INTEGER\")\n",
    "\n",
    "    # ooh spicy tabs ~ we could probably just parse first two directories from full string?????\n",
    "    for mis in [m for m in os.listdir(spdir) if not m[0] == '.']:\n",
    "        for ker in [k for k in os.listdir(spdir+'/'+mis) if not k[0] == '.']:\n",
    "             for root, subdir, files in os.walk(spdir+'/'+mis+'/'+ker):\n",
    "                for name in files:\n",
    "                    if not name[0] == \".\": # ignore hidden files\n",
    "                        filepath = os.getcwd()\n",
    "                        mis_hr = missions_readable[mis]\n",
    "                        fhash = farmhash.hash64(str(io.open(os.path.join(root, name),'rb').read())) # spice data encoding is mixed, so read as binary\n",
    "                        \n",
    "                        c.execute(\"INSERT OR IGNORE INTO SPICE (Mission, Kernel, File, Path, Hash, Newest) VALUES ('{mn}', '{kn}', '{fn}', '{fp}', '{fh}', {new})\"\n",
    "                                  .format(mn=mis_hr, kn=ker, fn=name, fp=filepath, fh=fhash, new=0))\n",
    "    conn.commit()\n",
    "\n"
   ]
  },
  {
   "cell_type": "code",
   "execution_count": 64,
   "metadata": {},
   "outputs": [
    {
     "name": "stdout",
     "output_type": "stream",
     "text": [
      "=======\n",
      "nooooo\n",
      "=====\n"
     ]
    }
   ],
   "source": [
    "conn = sqlite3.connect('./spice_data/.spicedb.sqlite')\n",
    "c = conn.cursor()\n",
    "c.execute(\"SELECT * FROM SPICE WHERE Mission='clementine' AND Kernel='ck' AND File='testfile1.txt'\")\n",
    "# Note: fetchall() will pull the whole buffer, if you SELECT ten times, the result will be in there ten times\n",
    "all_rows = c.fetchall() \n",
    "print('=======')\n",
    "if all_rows != []:\n",
    "    print(all_rows[0][4])\n",
    "else:\n",
    "    print('nooooo')\n",
    "print('=====')"
   ]
  },
  {
   "cell_type": "code",
   "execution_count": 108,
   "metadata": {
    "collapsed": true
   },
   "outputs": [],
   "source": [
    "conn.close()"
   ]
  },
  {
   "cell_type": "code",
   "execution_count": 170,
   "metadata": {
    "collapsed": true
   },
   "outputs": [],
   "source": [
    "# returns a dictionary of a single row from a sql select return\n",
    "def sql_dict(sql_row):\n",
    "    return { 'mission': sql_row[0],\n",
    "             'kernel' : sql_row[1],\n",
    "             'file'   : sql_row[2],\n",
    "             'path'   : sql_row[3],\n",
    "             'hash'   : sql_row[4],\n",
    "             'newest' : sql_row[5] }\n",
    "\n",
    "# returns an array of dictionaries of a whole sql select return\n",
    "def sql_dict_array(sql_rows):\n",
    "    dicts = []\n",
    "    for row in sql_rows:\n",
    "        dicts.append(sql_dict(row))\n",
    "    return dicts\n",
    "        "
   ]
  },
  {
   "cell_type": "code",
   "execution_count": 176,
   "metadata": {},
   "outputs": [
    {
     "name": "stdout",
     "output_type": "stream",
     "text": [
      "{\n",
      "  \"mission\": \"clementine\",\n",
      "  \"kernel\": \"ck\",\n",
      "  \"file\": \"testfile1.txt\",\n",
      "  \"path\": \"./spice_data/clem1-l-spice-6-v1.0/ck/testfile1.txt\",\n",
      "  \"hash\": \"13167233149662072294\",\n",
      "  \"newest\": 0\n",
      "}\n",
      "{\n",
      "  \"mission\": \"clementine\",\n",
      "  \"kernel\": \"ck\",\n",
      "  \"file\": \"testfile2.txt\",\n",
      "  \"path\": \"./spice_data/clem1-l-spice-6-v1.0/ck/testfile2.txt\",\n",
      "  \"hash\": \"2116770068367243914\",\n",
      "  \"newest\": 0\n",
      "}\n",
      "{\n",
      "  \"mission\": \"clementine\",\n",
      "  \"kernel\": \"ck\",\n",
      "  \"file\": \"testfile3.txt\",\n",
      "  \"path\": \"./spice_data/clem1-l-spice-6-v1.0/ck/testfile3.txt\",\n",
      "  \"hash\": \"10117441339441774812\",\n",
      "  \"newest\": 0\n",
      "}\n",
      "{\n",
      "  \"mission\": \"clementine\",\n",
      "  \"kernel\": \"ck\",\n",
      "  \"file\": \"testfile4.txt\",\n",
      "  \"path\": \"./spice_data/clem1-l-spice-6-v1.0/ck/testfile4.txt\",\n",
      "  \"hash\": \"407662078023551858\",\n",
      "  \"newest\": 0\n",
      "}\n",
      "{\n",
      "  \"mission\": \"clementine\",\n",
      "  \"kernel\": \"ck\",\n",
      "  \"file\": \"testfile1A.txt\",\n",
      "  \"path\": \"./spice_data/clem1-l-spice-6-v1.0/ck/testdir1A/testfile1A.txt\",\n",
      "  \"hash\": \"1855841718642996950\",\n",
      "  \"newest\": 0\n",
      "}\n"
     ]
    }
   ],
   "source": [
    "select_output = sql_dict_array(all_rows)\n",
    "for d in select_output:\n",
    "    print(json.dumps(d, indent=2))"
   ]
  },
  {
   "cell_type": "code",
   "execution_count": 36,
   "metadata": {},
   "outputs": [
    {
     "name": "stdout",
     "output_type": "stream",
     "text": [
      "spice_data/testdir1A\n",
      "spice_data/testfile1.txt\n",
      "spice_data/testfile2.txt\n",
      "spice_data/testfile3.txt\n",
      "spice_data/testfile4.txt\n",
      "spice_data/testdir1A\n",
      "spice_data/testfile1.txt\n",
      "spice_data/testfile2.txt\n",
      "spice_data/testfile3.txt\n",
      "spice_data/testfile4.txt\n"
     ]
    }
   ],
   "source": [
    "\n",
    "for mis in [m for m in os.listdir('./spice_data') if not m[0] == '.']:\n",
    "        for ker in [k for k in os.listdir('./spice_data/'+mis+'/data') if not k[0] == '.']:\n",
    "            for file in [f for f in os.listdir('./spice_data/'+mis+'/data/'+ker) if not f[0] == '.']:\n",
    "                if os.path.isdir('./spice_data/'+mis+'/data/'+ker+'/'+file):\n",
    "                    print(file)"
   ]
  },
  {
   "cell_type": "code",
   "execution_count": 39,
   "metadata": {},
   "outputs": [
    {
     "name": "stdout",
     "output_type": "stream",
     "text": [
      "/Users/ryan/Desktop/school/spicerack_withdb/test_concepts/sqlite_db\n"
     ]
    }
   ],
   "source": [
    "print(os.getcwd())"
   ]
  },
  {
   "cell_type": "code",
   "execution_count": 75,
   "metadata": {},
   "outputs": [
    {
     "name": "stdout",
     "output_type": "stream",
     "text": [
      "['spice_data', 'clem1-l-spice-6-v1.0', 'data', 'ck', 'testfile1.txt']\n",
      "['spice_data', 'clem1-l-spice-6-v1.0', 'data', 'ck', 'testfile2.txt']\n",
      "['spice_data', 'clem1-l-spice-6-v1.0', 'data', 'ck', 'testfile3.txt']\n",
      "['spice_data', 'clem1-l-spice-6-v1.0', 'data', 'ck', 'testfile4.txt']\n",
      "['spice_data', 'clem1-l-spice-6-v1.0', 'data', 'ck', 'testdir1A', 'testfile1A.txt']\n",
      "['spice_data', 'clem1-l-spice-6-v1.0', 'extras', 'mk', 'testfile3.txt']\n",
      "['spice_data', 'mess-e_v_h-spice-6-v1.0', 'data', 'ck', 'testfile1.txt']\n",
      "['spice_data', 'mess-e_v_h-spice-6-v1.0', 'data', 'ck', 'testfile2.txt']\n",
      "['spice_data', 'mess-e_v_h-spice-6-v1.0', 'data', 'ck', 'testfile3.txt']\n",
      "['spice_data', 'mess-e_v_h-spice-6-v1.0', 'data', 'ck', 'testfile4.txt']\n",
      "['spice_data', 'mess-e_v_h-spice-6-v1.0', 'data', 'ck', 'testdir1A', 'testfile1A.txt']\n",
      "['spice_data', 'mess-e_v_h-spice-6-v1.0', 'extras', 'mk', 'testfile3.txt']\n"
     ]
    }
   ],
   "source": [
    "def populate_spicedb():\n",
    "    \n",
    "    if os.path.exists('/spicedata/.spicedb.sqlite')\n",
    "        os.remove('/spicedata/.spicedb.sqlite')\n",
    "        \n",
    "    # atm we only use one table in the database - mostly just for storage -> quick access\n",
    "    # database format will be: | Mission | Kernel | File | Path | Hash | Newest |\n",
    "    conn = sqlite3.connect('/spicedata/.spicedb.sqlite')\n",
    "    c = conn.cursor()\n",
    "    c.execute(\"CREATE TABLE SPICE (Mission TEXT, Kernel TEXT, File TEXT, Path TEXT, Hash TEXT, Newest INTEGER )\")\n",
    "    \n",
    "    for root, subdir, files in os.walk('spice_data'):\n",
    "        for name in files: \n",
    "            if name[0] == '.':\n",
    "                continue\n",
    "            split = root.split('/')\n",
    "            fhash = farmhash.hash64(str(io.open(root+'/'+name,'rb').read())) # spice data encoding is mixed, so read as binary\n",
    "\n",
    "            if len(split) >=4 and (split[3] in ['data', 'extras']):\n",
    "                c.execute(\"INSERT OR IGNORE INTO SPICE (Mission, Kernel, File, Path, Hash, Newest) VALUES ('{mn}', '{kn}', '{fn}', '{fp}', '{fh}', {new})\"\n",
    "                          .format(mn=missions_readable[split[1]], kn=split[3], fn=name, fp=root, fh=fhash, new=0))\n",
    "            \n",
    "    conn.commit()\n",
    "    conn.close()\n",
    "    print('Finished Indexing of SPICE data, stored in /spicedata/.spicedb.sqlite')"
   ]
  },
  {
   "cell_type": "code",
   "execution_count": 91,
   "metadata": {},
   "outputs": [
    {
     "name": "stdout",
     "output_type": "stream",
     "text": [
      "spice_data/clem1-l-spice-6-v1.0/clsp_1000/data/ck/testfile1.txt\n",
      "spice_data/clem1-l-spice-6-v1.0/clsp_1000/data/ck/testfile4.txt\n",
      "spice_data/clem1-l-spice-6-v1.0/clsp_1000/data/sclk/testfile3.txt\n",
      "spice_data/clem1-l-spice-6-v1.0/clsp_1000/data/spk/testfile2.txt\n",
      "spice_data/clem1-l-spice-6-v1.0/clsp_1000/extras/mk/testfile3.txt\n",
      "spice_data/mess-e_v_h-spice-6-v1.0/messsp_1000/data/ck/testfile1.txt\n",
      "spice_data/mess-e_v_h-spice-6-v1.0/messsp_1000/data/ck/testfile4.txt\n",
      "spice_data/mess-e_v_h-spice-6-v1.0/messsp_1000/data/sclk/testfile3.txt\n",
      "spice_data/mess-e_v_h-spice-6-v1.0/messsp_1000/data/spk/testfile2.txt\n",
      "spice_data/mess-e_v_h-spice-6-v1.0/messsp_1000/extras/mk/testfile3.txt\n"
     ]
    }
   ],
   "source": [
    "kernels = ['ck', 'ek', 'fk', 'ik', 'lsk', 'pck', 'sclk', 'spk']\n",
    "for root, subdir, files in os.walk('spice_data'):\n",
    "    for name in files: \n",
    "        if name[0] == '.':\n",
    "            continue\n",
    "        fp_split = root.split('/')\n",
    "        print(root+'/'+name)"
   ]
  },
  {
   "cell_type": "code",
   "execution_count": null,
   "metadata": {
    "collapsed": true
   },
   "outputs": [],
   "source": []
  }
 ],
 "metadata": {
  "kernelspec": {
   "display_name": "Python 3",
   "language": "python",
   "name": "python3"
  },
  "language_info": {
   "codemirror_mode": {
    "name": "ipython",
    "version": 3
   },
   "file_extension": ".py",
   "mimetype": "text/x-python",
   "name": "python",
   "nbconvert_exporter": "python",
   "pygments_lexer": "ipython3",
   "version": "3.6.1"
  }
 },
 "nbformat": 4,
 "nbformat_minor": 2
}
