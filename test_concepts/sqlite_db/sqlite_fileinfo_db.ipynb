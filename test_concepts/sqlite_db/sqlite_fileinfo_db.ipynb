{
 "cells": [
  {
   "cell_type": "code",
   "execution_count": 26,
   "metadata": {
    "collapsed": true
   },
   "outputs": [],
   "source": [
    "# Demo for synchronization of two data directories\n",
    "import os\n",
    "import io\n",
    "import pandas as pd\n",
    "import numpy as np\n",
    "import farmhash\n",
    "import time\n",
    "import sqlite3"
   ]
  },
  {
   "cell_type": "code",
   "execution_count": 4,
   "metadata": {},
   "outputs": [
    {
     "name": "stdout",
     "output_type": "stream",
     "text": [
      "elapsed time:  0.0032210350036621094\n",
      "                                           Hash\n",
      "./testdir1                                     \n",
      "/testfile1.txt             13167233149662072294\n",
      "/testfile2.txt              2116770068367243914\n",
      "/testfile3.txt             10117441339441774812\n",
      "/testfile4.txt               407662078023551858\n",
      "/testdir1A/testfile1A.txt   1855841718642996950                                            Hash\n",
      "./testdir2                                     \n",
      "/testfile1.txt             13167233149662072294\n",
      "/testfile2.txt              2116770068367243914\n",
      "/testfile3.txt             10117441339441774812\n",
      "/testfile4.txt               407662078023551858\n",
      "/testdir1A/testfile1A.txt   1855841718642996950\n"
     ]
    }
   ],
   "source": [
    "def create_dirdf(directory):\n",
    "    if not os.path.exists(directory):\n",
    "        print(\"Error: Directory '\" + directory + \"' does not exist.\")\n",
    "        return\n",
    "    \n",
    "    filenames = []\n",
    "    hashvalues = []\n",
    "    \n",
    "    for root, subdir, files in os.walk(directory):\n",
    "        for name in files:\n",
    "            if not name[0] == \".\": # ignore hidden files\n",
    "                filepath = os.path.join(root, name)\n",
    "                \n",
    "                # hash full file contents\n",
    "                # note: spice data encoding is mixed, so read as binary\n",
    "                file = str(io.open(filepath,'rb').read()) \n",
    "                filenames.append(filepath.split(directory, 1)[1])\n",
    "                hashvalues.append(farmhash.hash64(file))\n",
    "                \n",
    "    df = pd.DataFrame(data=hashvalues, index = filenames, columns = [\"Hash\"])\n",
    "    df.index.name = directory\n",
    "    return df\n",
    "\n",
    "start = time.time()\n",
    "dir1df = create_dirdf(\"./testdir1\")\n",
    "print(\"elapsed time: \", time.time() - start)\n",
    "\n",
    "dir2df = create_dirdf(\"./testdir2\")\n",
    "\n",
    "print(dir1df, dir2df)"
   ]
  },
  {
   "cell_type": "code",
   "execution_count": 30,
   "metadata": {},
   "outputs": [
    {
     "data": {
      "text/plain": [
       "<sqlite3.Cursor at 0x114a65570>"
      ]
     },
     "execution_count": 30,
     "metadata": {},
     "output_type": "execute_result"
    }
   ],
   "source": [
    "conn = sqlite3.connect('./spicedb.sqlite')\n",
    "c = conn.cursor()\n",
    "c.execute('CREATE TABLE testdir1_hashes (Filename TEXT)')\n",
    "c.execute(\"ALTER TABLE {tn} ADD COLUMN '{cn}' {ct}\".format(tn='testdir1_hashes', cn='Hash', ct='TEXT'))\n",
    "c.execute(\"INSERT OR IGNORE INTO {tn} ({idf}, {cn}) VALUES ('testfn', '12312312')\".format(tn='testdir1_hashes', idf='Filename', cn='Hash'))"
   ]
  },
  {
   "cell_type": "code",
   "execution_count": 31,
   "metadata": {},
   "outputs": [],
   "source": [
    "create_spicedb('./testdir1')\n",
    "conn.commit()\n",
    "conn.close()"
   ]
  },
  {
   "cell_type": "code",
   "execution_count": 29,
   "metadata": {},
   "outputs": [],
   "source": [
    "os.remove('./spicedb.sqlite')"
   ]
  },
  {
   "cell_type": "code",
   "execution_count": 23,
   "metadata": {
    "collapsed": true
   },
   "outputs": [],
   "source": [
    "def create_spicedb(directory):\n",
    "    if not os.path.exists(directory):\n",
    "        print(\"Error: Directory '\" + directory + \"' does not exist.\")\n",
    "        return\n",
    "    \n",
    "    for root, subdir, files in os.walk(directory):\n",
    "        for name in files:\n",
    "            if not name[0] == \".\": # ignore hidden files\n",
    "                filepath = os.path.join(root, name)\n",
    "                file = str(io.open(filepath,'rb').read())\n",
    "                c.execute(\"INSERT OR IGNORE INTO {tn} ({idf}, {cn}) VALUES ('{fn}', '{hsh}')\".format(tn='testdir1_hashes', idf='Filename', cn='Hash',fn = filepath,hsh = farmhash.hash64(file) ))"
   ]
  },
  {
   "cell_type": "code",
   "execution_count": 38,
   "metadata": {},
   "outputs": [
    {
     "name": "stdout",
     "output_type": "stream",
     "text": [
      "[('./testdir1/testfile1.txt', '13167233149662072294')]\n"
     ]
    }
   ],
   "source": [
    "c.execute(\"SELECT * FROM testdir1_hashes WHERE Filename= './testdir1/testfile1.txt'\")\n",
    "all_rows = c.fetchall()\n",
    "print(all_rows)"
   ]
  },
  {
   "cell_type": "code",
   "execution_count": 35,
   "metadata": {},
   "outputs": [
    {
     "name": "stdout",
     "output_type": "stream",
     "text": [
      "[]\n"
     ]
    }
   ],
   "source": [
    "\n"
   ]
  },
  {
   "cell_type": "code",
   "execution_count": null,
   "metadata": {
    "collapsed": true
   },
   "outputs": [],
   "source": []
  }
 ],
 "metadata": {
  "kernelspec": {
   "display_name": "Python 3",
   "language": "python",
   "name": "python3"
  },
  "language_info": {
   "codemirror_mode": {
    "name": "ipython",
    "version": 3
   },
   "file_extension": ".py",
   "mimetype": "text/x-python",
   "name": "python",
   "nbconvert_exporter": "python",
   "pygments_lexer": "ipython3",
   "version": "3.6.1"
  }
 },
 "nbformat": 4,
 "nbformat_minor": 2
}
