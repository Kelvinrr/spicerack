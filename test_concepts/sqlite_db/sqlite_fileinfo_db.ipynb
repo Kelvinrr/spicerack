{
 "cells": [
  {
   "cell_type": "code",
   "execution_count": 26,
   "metadata": {
    "collapsed": true
   },
   "outputs": [],
   "source": [
    "# Demo for synchronization of two data directories\n",
    "import os\n",
    "import io\n",
    "import pandas as pd\n",
    "import numpy as np\n",
    "import farmhash\n",
    "import time\n",
    "import sqlite3"
   ]
  },
  {
   "cell_type": "code",
   "execution_count": 4,
   "metadata": {},
   "outputs": [
    {
     "name": "stdout",
     "output_type": "stream",
     "text": [
      "elapsed time:  0.0032210350036621094\n",
      "                                           Hash\n",
      "./testdir1                                     \n",
      "/testfile1.txt             13167233149662072294\n",
      "/testfile2.txt              2116770068367243914\n",
      "/testfile3.txt             10117441339441774812\n",
      "/testfile4.txt               407662078023551858\n",
      "/testdir1A/testfile1A.txt   1855841718642996950                                            Hash\n",
      "./testdir2                                     \n",
      "/testfile1.txt             13167233149662072294\n",
      "/testfile2.txt              2116770068367243914\n",
      "/testfile3.txt             10117441339441774812\n",
      "/testfile4.txt               407662078023551858\n",
      "/testdir1A/testfile1A.txt   1855841718642996950\n"
     ]
    }
   ],
   "source": [
    "def create_dirdf(directory):\n",
    "    if not os.path.exists(directory):\n",
    "        print(\"Error: Directory '\" + directory + \"' does not exist.\")\n",
    "        return\n",
    "    \n",
    "    filenames = []\n",
    "    hashvalues = []\n",
    "    \n",
    "    for root, subdir, files in os.walk(directory):\n",
    "        for name in files:\n",
    "            if not name[0] == \".\": # ignore hidden files\n",
    "                filepath = os.path.join(root, name)\n",
    "                \n",
    "                # hash full file contents\n",
    "                # note: spice data encoding is mixed, so read as binary\n",
    "                file = str(io.open(filepath,'rb').read()) \n",
    "                filenames.append(filepath.split(directory, 1)[1])\n",
    "                hashvalues.append(farmhash.hash64(file))\n",
    "                \n",
    "    df = pd.DataFrame(data=hashvalues, index = filenames, columns = [\"Hash\"])\n",
    "    df.index.name = directory\n",
    "    return df\n",
    "\n",
    "start = time.time()\n",
    "dir1df = create_dirdf(\"./testdir1\")\n",
    "print(\"elapsed time: \", time.time() - start)\n",
    "\n",
    "dir2df = create_dirdf(\"./testdir2\")\n",
    "\n",
    "print(dir1df, dir2df)"
   ]
  },
  {
   "cell_type": "code",
   "execution_count": 42,
   "metadata": {},
   "outputs": [
    {
     "data": {
      "text/plain": [
       "<sqlite3.Cursor at 0x114a651f0>"
      ]
     },
     "execution_count": 42,
     "metadata": {},
     "output_type": "execute_result"
    }
   ],
   "source": [
    "conn = sqlite3.connect('./spicedb.sqlite')\n",
    "c = conn.cursor()\n",
    "c.execute('CREATE TABLE testdir1_hashes (Filename TEXT)')\n",
    "c.execute(\"ALTER TABLE {tn} ADD COLUMN '{cn}' {ct}\".format(tn='testdir1_hashes', cn='Hash', ct='TEXT'))\n",
    "c.execute(\"INSERT OR IGNORE INTO {tn} ({idf}, {cn}) VALUES ('testfn', '12312312')\".format(tn='testdir1_hashes', idf='Filename', cn='Hash'))"
   ]
  },
  {
   "cell_type": "code",
   "execution_count": 103,
   "metadata": {},
   "outputs": [],
   "source": [
    "os.remove('./spicedb.sqlite')"
   ]
  },
  {
   "cell_type": "code",
   "execution_count": 106,
   "metadata": {},
   "outputs": [],
   "source": [
    "def create_spicedb(directory):\n",
    "    if not os.path.exists(directory):\n",
    "        print(\"Error: Directory '\" + directory + \"' does not exist.\")\n",
    "        return\n",
    "    \n",
    "    conn = sqlite3.connect('./spicedb.sqlite') # initialize db\n",
    "    c = conn.cursor()\n",
    "    \n",
    "    c.execute(\"CREATE TABLE Mission (Name TEXT)\") # create missions table\n",
    "    c.execute(\"ALTER TABLE Mission ADD COLUMN Kernel TEXT\")\n",
    "    \n",
    "    c.execute(\"CREATE TABLE Kernel (Name TEXT)\") # create kernels table\n",
    "    c.execute(\"ALTER TABLE Kernel ADD COLUMN File TEXT\")\n",
    "    \n",
    "    missions = [m for m in os.listdir(directory) if not m[0] == '.']\n",
    "    for mission in missions:\n",
    "        kernels = [k for k in os.listdir(directory+'/'+mission) if not k[0] == '.']\n",
    "        for kernel in kernels:\n",
    "            c.execute(\"INSERT OR IGNORE INTO Mission (Name, Kernel) VALUES ('{mn}', '{kn}')\".format(mn=mission, kn=kernel))\n",
    "            files = [f for f in os.listdir(directory+'/'+mission+'/'+kernel) if not f[0] == '.']\n",
    "            for file in files:\n",
    "                c.execute(\"INSERT OR IGNORE INTO Kernel (Name, File) VALUES ('{kn}', '{fn}')\".format(kn=kernel, fn=file))\n",
    "    \n",
    "    conn.commit()\n",
    "\n",
    "    \n",
    "    \n",
    "#     for root, subdir, files in os.walk(directory):\n",
    "#         for name in files:\n",
    "#             if not name[0] == \".\": # ignore hidden files\n",
    "#                 filepath = os.path.join(root, name)\n",
    "#                 file = str(io.open(filepath,'rb').read())\n",
    "#                 c.execute(\"INSERT OR IGNORE INTO {tn} (Filename, Hash) VALUES ('{fn}', '{hsh}')\".format(tn='testdir1_hashes', fn = filepath,hsh = farmhash.hash64(file) ))"
   ]
  },
  {
   "cell_type": "code",
   "execution_count": 107,
   "metadata": {},
   "outputs": [],
   "source": [
    "create_spicedb('./spice_data')\n",
    "# c.execute(\"SELECT * FROM testdir1_hashes WHERE Hash= '13167233149662072294'\")\n",
    "# # Note: fetchall() will pull the whole buffer, if you SELECT ten times, the result will be in there ten times\n",
    "# all_rows = c.fetchall() \n",
    "# print(all_rows)"
   ]
  },
  {
   "cell_type": "code",
   "execution_count": 108,
   "metadata": {},
   "outputs": [],
   "source": [
    "conn.close()"
   ]
  },
  {
   "cell_type": "code",
   "execution_count": null,
   "metadata": {
    "collapsed": true
   },
   "outputs": [],
   "source": []
  },
  {
   "cell_type": "code",
   "execution_count": null,
   "metadata": {
    "collapsed": true
   },
   "outputs": [],
   "source": []
  },
  {
   "cell_type": "code",
   "execution_count": null,
   "metadata": {
    "collapsed": true
   },
   "outputs": [],
   "source": []
  }
 ],
 "metadata": {
  "kernelspec": {
   "display_name": "Python 3",
   "language": "python",
   "name": "python3"
  },
  "language_info": {
   "codemirror_mode": {
    "name": "ipython",
    "version": 3
   },
   "file_extension": ".py",
   "mimetype": "text/x-python",
   "name": "python",
   "nbconvert_exporter": "python",
   "pygments_lexer": "ipython3",
   "version": "3.6.1"
  }
 },
 "nbformat": 4,
 "nbformat_minor": 2
}
