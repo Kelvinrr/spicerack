{
 "cells": [
  {
   "cell_type": "code",
   "execution_count": 26,
   "metadata": {
    "collapsed": true
   },
   "outputs": [],
   "source": [
    "# Demo for synchronization of two data directories\n",
    "import os\n",
    "import io\n",
    "import pandas as pd\n",
    "import numpy as np\n",
    "import farmhash\n",
    "import time\n",
    "import sqlite3"
   ]
  },
  {
   "cell_type": "code",
   "execution_count": 4,
   "metadata": {},
   "outputs": [
    {
     "name": "stdout",
     "output_type": "stream",
     "text": [
      "elapsed time:  0.0032210350036621094\n",
      "                                           Hash\n",
      "./testdir1                                     \n",
      "/testfile1.txt             13167233149662072294\n",
      "/testfile2.txt              2116770068367243914\n",
      "/testfile3.txt             10117441339441774812\n",
      "/testfile4.txt               407662078023551858\n",
      "/testdir1A/testfile1A.txt   1855841718642996950                                            Hash\n",
      "./testdir2                                     \n",
      "/testfile1.txt             13167233149662072294\n",
      "/testfile2.txt              2116770068367243914\n",
      "/testfile3.txt             10117441339441774812\n",
      "/testfile4.txt               407662078023551858\n",
      "/testdir1A/testfile1A.txt   1855841718642996950\n"
     ]
    }
   ],
   "source": [
    "def create_dirdf(directory):\n",
    "    if not os.path.exists(directory):\n",
    "        print(\"Error: Directory '\" + directory + \"' does not exist.\")\n",
    "        return\n",
    "    \n",
    "    filenames = []\n",
    "    hashvalues = []\n",
    "    \n",
    "    for root, subdir, files in os.walk(directory):\n",
    "        for name in files:\n",
    "            if not name[0] == \".\": # ignore hidden files\n",
    "                filepath = os.path.join(root, name)\n",
    "                \n",
    "                # hash full file contents\n",
    "                # note: spice data encoding is mixed, so read as binary\n",
    "                file = str(io.open(filepath,'rb').read()) \n",
    "                filenames.append(filepath.split(directory, 1)[1])\n",
    "                hashvalues.append(farmhash.hash64(file))\n",
    "                \n",
    "    df = pd.DataFrame(data=hashvalues, index = filenames, columns = [\"Hash\"])\n",
    "    df.index.name = directory\n",
    "    return df\n",
    "\n",
    "start = time.time()\n",
    "dir1df = create_dirdf(\"./testdir1\")\n",
    "print(\"elapsed time: \", time.time() - start)\n",
    "\n",
    "dir2df = create_dirdf(\"./testdir2\")\n",
    "\n",
    "print(dir1df, dir2df)"
   ]
  },
  {
   "cell_type": "code",
   "execution_count": 138,
   "metadata": {},
   "outputs": [],
   "source": [
    "os.remove('./spicedb.sqlite')"
   ]
  },
  {
   "cell_type": "code",
   "execution_count": 139,
   "metadata": {},
   "outputs": [],
   "source": [
    "def create_spicedb(spdir):\n",
    "    if not os.path.exists(spdir):\n",
    "        print(\"Error: Directory '\" + spdir + \"' does not exist.\")\n",
    "        return\n",
    "    \n",
    "    conn = sqlite3.connect('./spicedb.sqlite') # initialize db, this might move to an init func in the api\n",
    "    c = conn.cursor()\n",
    "    \n",
    "    c.execute(\"CREATE TABLE SPICE (Mission TEXT)\") # create missions table\n",
    "    c.execute(\"ALTER TABLE SPICE ADD COLUMN Kernel TEXT\")\n",
    "    c.execute(\"ALTER TABLE SPICE ADD COLUMN File TEXT\")\n",
    "    c.execute(\"ALTER TABLE SPICE ADD COLUMN Path TEXT\")\n",
    "    c.execute(\"ALTER TABLE SPICE ADD COLUMN Hash TEXT\") #theres probs a way to to this in one line\n",
    "\n",
    "\n",
    "    # ooh spicy ~\n",
    "    for mis in [m for m in os.listdir(spdir) if not m[0] == '.']:\n",
    "        for ker in [k for k in os.listdir(spdir+'/'+mis) if not k[0] == '.']:\n",
    "            \n",
    "            # first two directory layers should always be mission and kernels - then it gets mixed\n",
    "            for root, subdir, files in os.walk(spdir+'/'+mis+'/'+ker):\n",
    "                for name in files:\n",
    "                    if not name[0] == \".\": # ignore hidden files\n",
    "                        # more tabs pls\n",
    "                        filepath = os.path.join(root, name)\n",
    "                        mis_hr = missions_readable[mis]\n",
    "\n",
    "                        # spice data encoding is mixed, so read as binary\n",
    "                        fhash = farmhash.hash64(str(io.open(filepath,'rb').read()))\n",
    "                        c.execute(\"INSERT OR IGNORE INTO SPICE (Mission, Kernel, File, Path, Hash) VALUES ('{mn}', '{kn}', '{fn}', '{fp}', '{fh}')\"\\\n",
    "                                  .format(mn=mis_hr, kn=ker, fn=name, fp=filepath, fh=fhash))\n",
    "    \n",
    "    conn.commit()\n",
    "\n",
    "create_spicedb('./spice_data')"
   ]
  },
  {
   "cell_type": "code",
   "execution_count": 132,
   "metadata": {},
   "outputs": [
    {
     "name": "stdout",
     "output_type": "stream",
     "text": [
      "[('clem1-l-spice-6-v1.0', 'ck', 'testfile1.txt', './spice_data/clem1-l-spice-6-v1.0/ck/testfile1.txt', '13167233149662072294'), ('clem1-l-spice-6-v1.0', 'ck', 'testfile2.txt', './spice_data/clem1-l-spice-6-v1.0/ck/testfile2.txt', '2116770068367243914'), ('clem1-l-spice-6-v1.0', 'ck', 'testfile3.txt', './spice_data/clem1-l-spice-6-v1.0/ck/testfile3.txt', '10117441339441774812'), ('clem1-l-spice-6-v1.0', 'ck', 'testfile4.txt', './spice_data/clem1-l-spice-6-v1.0/ck/testfile4.txt', '407662078023551858'), ('clem1-l-spice-6-v1.0', 'ck', 'testfile1A.txt', './spice_data/clem1-l-spice-6-v1.0/ck/testdir1A/testfile1A.txt', '1855841718642996950')]\n"
     ]
    }
   ],
   "source": [
    "conn = sqlite3.connect('./spicedb.sqlite')\n",
    "c = conn.cursor()\n",
    "c.execute(\"SELECT * FROM SPICE WHERE Mission= 'clem1-l-spice-6-v1.0'\")\n",
    "# Note: fetchall() will pull the whole buffer, if you SELECT ten times, the result will be in there ten times\n",
    "all_rows = c.fetchall() \n",
    "print(all_rows)"
   ]
  },
  {
   "cell_type": "code",
   "execution_count": 108,
   "metadata": {},
   "outputs": [],
   "source": [
    "conn.close()"
   ]
  },
  {
   "cell_type": "code",
   "execution_count": 133,
   "metadata": {
    "collapsed": true
   },
   "outputs": [],
   "source": [
    "missions_readable = {   \"clem1-l-spice-6-v1.0\"       : \"clementine\",\n",
    "                        \"co-s_j_e_v-spice-6-v1.0\"    : \"cassini_orbiter\",\n",
    "                        \"dawn-m_a-spice-6-v1.0\"      : \"dawn\",\n",
    "                        \"di-c-spice-6-v1.0\"          : \"deep_impact\",\n",
    "                        \"dif-c_e_x-spice-6-v1.0\"     : \"epoxi\",\n",
    "                        \"ds1-a_c-spice-6-v1.0\"       : \"deep_space_1\",\n",
    "                        \"grail-l-spice-6-v1.0\"       : \"grail\",\n",
    "                        \"hay-a-spice-6-v1.0\"         : \"hayabusa\",\n",
    "                        \"jno-j_e_ss-spice-6-v1.0\"    : \"juno\",\n",
    "                        \"lro-l-spice-6-v1.0\"         : \"lunar_reconnaissance_orbiter\",\n",
    "                        \"mer1-m-spice-6-v1.0\"        : \"mer_1\",\n",
    "                        \"mer2-m-spice-6-v1.0\"        : \"mer_2\",\n",
    "                        \"mess-e_v_h-spice-6-v1.0\"    : \"messenger\",\n",
    "                        \"mex-e_m-spice-6-v1.0\"       : \"mars_express\",\n",
    "                        \"mgs-m-spice-6-v1.0\"         : \"mars_global_surveyor\",\n",
    "                        \"mro-m-spice-6-v1.0\"         : \"mars_reconnaissance_orbiter\",\n",
    "                        \"msl-m-spice-6-v1.0\"         : \"mars_science_laboratory\",\n",
    "                        \"near-a-spice-6-v1.0\"        : \"near\",\n",
    "                        \"nh-j_p_ss-spice-6-v1.0\"     : \"new_horizons\",\n",
    "                        \"ody-m-spice-6-v1.0\"         : \"mars_odyssey\",\n",
    "                        \"ros-e_m_a_c-spice-6-v1.0\"   : \"rosetta\",\n",
    "                        \"sdu-c-spice-6-v1.0\"         : \"stardust\",\n",
    "                        \"vco-v-spice-6-v1.0\"         : \"venus_climate_orbiter\",\n",
    "                        \"vex-e_v-spice-6-v1.0\"       : \"venus_express\",\n",
    "                        \"vo1_vo2-m-spice-6-v1.0\"     : \"viking_orbiter\"}\n",
    "\n",
    "missions_true = {value: key for key, value in missions_readable.items()}"
   ]
  },
  {
   "cell_type": "code",
   "execution_count": null,
   "metadata": {
    "collapsed": true
   },
   "outputs": [],
   "source": []
  },
  {
   "cell_type": "code",
   "execution_count": null,
   "metadata": {
    "collapsed": true
   },
   "outputs": [],
   "source": []
  }
 ],
 "metadata": {
  "kernelspec": {
   "display_name": "Python 3",
   "language": "python",
   "name": "python3"
  },
  "language_info": {
   "codemirror_mode": {
    "name": "ipython",
    "version": 3
   },
   "file_extension": ".py",
   "mimetype": "text/x-python",
   "name": "python",
   "nbconvert_exporter": "python",
   "pygments_lexer": "ipython3",
   "version": "3.6.1"
  }
 },
 "nbformat": 4,
 "nbformat_minor": 2
}
