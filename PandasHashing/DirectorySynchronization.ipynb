{
 "cells": [
  {
   "cell_type": "code",
   "execution_count": 102,
   "metadata": {
    "collapsed": true
   },
   "outputs": [],
   "source": [
    "# Demo for synchronization of two data directories\n",
    "import os\n",
    "import io\n",
    "import pandas as pd\n",
    "import numpy as np\n",
    "import farmhash\n",
    "import time"
   ]
  },
  {
   "cell_type": "code",
   "execution_count": 103,
   "metadata": {
    "collapsed": true
   },
   "outputs": [],
   "source": [
    "def create_dirdf(directory):\n",
    "    if not os.path.exists(directory):\n",
    "        print(\"Error: Directory '\" + directory + \"' does not exist.\")\n",
    "        return\n",
    "    \n",
    "    filenames = []\n",
    "    hashvalues = []\n",
    "    \n",
    "    for root, subdir, files in os.walk(directory):\n",
    "        for name in files:\n",
    "            if not name[0] == \".\": # ignore hidden files\n",
    "                filepath = os.path.join(root, name)\n",
    "                \n",
    "                # hash full file contents\n",
    "                # note: we dont know the encoding scheme for the spice data files, so we just read as binary\n",
    "                # the labels and headers are all ascii, but the kernels are a mix of ascii and ???\n",
    "                file = str(io.open(filepath,'rb').read()) \n",
    "                filenames.append(filepath.split(directory, 1)[1])\n",
    "                hashvalues.append(farmhash.hash64(file))\n",
    "                \n",
    "                # parse file creation date\n",
    "    df = pd.DataFrame(data=hashvalues, index = filenames, columns = [\"Hash\"])\n",
    "    df.index.name = directory\n",
    "    return df"
   ]
  },
  {
   "cell_type": "code",
   "execution_count": 104,
   "metadata": {
    "scrolled": true
   },
   "outputs": [
    {
     "name": "stdout",
     "output_type": "stream",
     "text": [
      "elapsed time:  11.3596670627594\n",
      "                                                                    Hash\n",
      "./testdir1                                                              \n",
      "/testfile1.txt                                      13167233149662072294\n",
      "/testfile2.txt                                       2116770068367243914\n",
      "/testfile3.txt                                      10117441339441774812\n",
      "/testfile4.txt                                        407662078023551858\n",
      "/testdir1A/testfile1A.txt                            1855841718642996950\n",
      "/testdir1A/clem1-l-spice-6-v1.0/dsindex.lbl         16661501493414142325\n",
      "/testdir1A/clem1-l-spice-6-v1.0/dsindex.tab         15056493393769822290\n",
      "/testdir1A/clem1-l-spice-6-v1.0/clsp_1000/aarea...   9860181418246867054\n",
      "/testdir1A/clem1-l-spice-6-v1.0/clsp_1000/aarea...   2900448953212383570\n",
      "/testdir1A/clem1-l-spice-6-v1.0/clsp_1000/aarea...  17585396647624954768\n",
      "/testdir1A/clem1-l-spice-6-v1.0/clsp_1000/errat...  14362732480219937772\n",
      "/testdir1A/clem1-l-spice-6-v1.0/clsp_1000/volde...  12318166595063303068\n",
      "/testdir1A/clem1-l-spice-6-v1.0/clsp_1000/catal...   1154749873628357165\n",
      "/testdir1A/clem1-l-spice-6-v1.0/clsp_1000/catal...  13768184483255343979\n",
      "/testdir1A/clem1-l-spice-6-v1.0/clsp_1000/catal...  17362930047179486599\n",
      "/testdir1A/clem1-l-spice-6-v1.0/clsp_1000/catal...   7349549391493292032\n",
      "/testdir1A/clem1-l-spice-6-v1.0/clsp_1000/catal...    308121063549536287\n",
      "/testdir1A/clem1-l-spice-6-v1.0/clsp_1000/catal...  16489566392610648761\n",
      "/testdir1A/clem1-l-spice-6-v1.0/clsp_1000/catal...   2299430286463738596\n",
      "/testdir1A/clem1-l-spice-6-v1.0/clsp_1000/catal...   9057950942232035303\n",
      "/testdir1A/clem1-l-spice-6-v1.0/clsp_1000/catal...   6781833464293763874\n",
      "/testdir1A/clem1-l-spice-6-v1.0/clsp_1000/data/...  10381666009357514048\n",
      "/testdir1A/clem1-l-spice-6-v1.0/clsp_1000/data/...  12208901896312722101\n",
      "/testdir1A/clem1-l-spice-6-v1.0/clsp_1000/data/...   7696494487919047473\n",
      "/testdir1A/clem1-l-spice-6-v1.0/clsp_1000/data/...  17327302225540329045\n",
      "/testdir1A/clem1-l-spice-6-v1.0/clsp_1000/data/...   7917724138329681505\n",
      "/testdir1A/clem1-l-spice-6-v1.0/clsp_1000/data/...  10086157413584974513\n",
      "/testdir1A/clem1-l-spice-6-v1.0/clsp_1000/data/...    307015980699903091\n",
      "/testdir1A/clem1-l-spice-6-v1.0/clsp_1000/data/...  11802638565119697874\n",
      "/testdir1A/clem1-l-spice-6-v1.0/clsp_1000/data/...  16751295089445417381\n",
      "...                                                                  ...\n",
      "/testdir1A/clem1-l-spice-6-v1.0/clsp_1000/data/...   1498034267416807685\n",
      "/testdir1A/clem1-l-spice-6-v1.0/clsp_1000/data/...   7397466993961446775\n",
      "/testdir1A/clem1-l-spice-6-v1.0/clsp_1000/data/...   6607359617583484290\n",
      "/testdir1A/clem1-l-spice-6-v1.0/clsp_1000/data/...   8755818407688193967\n",
      "/testdir1A/clem1-l-spice-6-v1.0/clsp_1000/data/...  16065776100959262577\n",
      "/testdir1A/clem1-l-spice-6-v1.0/clsp_1000/data/...  17076097578113045773\n",
      "/testdir1A/clem1-l-spice-6-v1.0/clsp_1000/data/...  11482207979327807733\n",
      "/testdir1A/clem1-l-spice-6-v1.0/clsp_1000/data/...   1185941252229524626\n",
      "/testdir1A/clem1-l-spice-6-v1.0/clsp_1000/data/...   7182091826269331312\n",
      "/testdir1A/clem1-l-spice-6-v1.0/clsp_1000/data/...  13535641150046933441\n",
      "/testdir1A/clem1-l-spice-6-v1.0/clsp_1000/data/...  17064617217575695662\n",
      "/testdir1A/clem1-l-spice-6-v1.0/clsp_1000/data/...   2326580390921668588\n",
      "/testdir1A/clem1-l-spice-6-v1.0/clsp_1000/data/...   5584794233615817986\n",
      "/testdir1A/clem1-l-spice-6-v1.0/clsp_1000/data/...  14876636134277054476\n",
      "/testdir1A/clem1-l-spice-6-v1.0/clsp_1000/data/...   7681098732645487538\n",
      "/testdir1A/clem1-l-spice-6-v1.0/clsp_1000/data/...  10791684604360490405\n",
      "/testdir1A/clem1-l-spice-6-v1.0/clsp_1000/docum...  13100567708545595684\n",
      "/testdir1A/clem1-l-spice-6-v1.0/clsp_1000/docum...  12379109965400600141\n",
      "/testdir1A/clem1-l-spice-6-v1.0/clsp_1000/docum...   9810216719336216059\n",
      "/testdir1A/clem1-l-spice-6-v1.0/clsp_1000/extra...  10347524046024057962\n",
      "/testdir1A/clem1-l-spice-6-v1.0/clsp_1000/extra...   9687016030237581216\n",
      "/testdir1A/clem1-l-spice-6-v1.0/clsp_1000/extra...  15100520752020021293\n",
      "/testdir1A/clem1-l-spice-6-v1.0/clsp_1000/extra...  11123178922178898190\n",
      "/testdir1A/clem1-l-spice-6-v1.0/clsp_1000/extra...    789364031644198985\n",
      "/testdir1A/clem1-l-spice-6-v1.0/clsp_1000/index...   9111817096774552536\n",
      "/testdir1A/clem1-l-spice-6-v1.0/clsp_1000/index...  17245192329131427072\n",
      "/testdir1A/clem1-l-spice-6-v1.0/clsp_1000/index...  17693102420804423752\n",
      "/testdir1A/clem1-l-spice-6-v1.0/clsp_1000/index...  15056493393769822290\n",
      "/testdir1A/clem1-l-spice-6-v1.0/clsp_1000/index...   8693714457734506246\n",
      "/testdir1A/clem1-l-spice-6-v1.0/clsp_1000/softw...   4405629894013160461\n",
      "\n",
      "[95 rows x 1 columns]\n",
      "                                           Hash\n",
      "./testdir2                                     \n",
      "/testfile1.txt             13167233149662072294\n",
      "/testfile2.txt              2116770068367243914\n",
      "/testfile3.txt             10117441339441774812\n",
      "/testfile4.txt               407662078023551858\n",
      "/testdir1A/testfile1A.txt   1855841718642996950\n"
     ]
    }
   ],
   "source": [
    "start = time.time()\n",
    "dir1df = create_dirdf(\"./testdir1\")\n",
    "end = time.time()\n",
    "print(\"elapsed time: \", end - start)\n",
    "\n",
    "dir2df = create_dirdf(\"./testdir2\")\n",
    "print(dir1df)\n",
    "print(dir2df)"
   ]
  },
  {
   "cell_type": "code",
   "execution_count": 95,
   "metadata": {},
   "outputs": [
    {
     "name": "stdout",
     "output_type": "stream",
     "text": [
      "                                              Hash\n",
      "./testdir1                                        \n",
      "\"clem_act_ck3.bc\"              2007-06-13T12:18:08\n",
      "\"clem_moon_940127_940312.bdb\"  2007-06-13T12:18:17\n",
      "\"clem_moon_940312_940330.bdb\"  2007-06-13T12:20:32\n",
      "\"clem_moon_940330_940415.bdb\"  2007-06-13T12:22:41\n",
      "\"clem_moon_940415_940507.bdb\"  2007-06-13T12:24:39\n",
      "\"clem_sky_940201_940507.bdb\"   2007-06-13T12:26:37\n",
      "\"clem_v20.tf\"                  2007-06-13T12:27:00\n",
      "\"moon_060721.tf\"               2007-06-13T12:27:01\n",
      "\"moon_assoc_me.tf\"             2007-06-13T12:27:01\n",
      "\"moon_assoc_pa.tf\"             2007-06-13T12:27:01\n",
      "\"clem_astar_006.ti\"            2007-06-13T12:27:01\n",
      "\"clem_bstar_006.ti\"            2007-06-13T12:27:01\n",
      "\"clem_cpt_002.ti\"              2007-06-13T12:27:01\n",
      "\"clem_hires_008.ti\"            2007-06-13T12:27:02\n",
      "\"clem_lidar_005.ti\"            2007-06-13T12:27:02\n",
      "\"clem_lwir_008.ti\"             2007-06-13T12:27:02\n",
      "\"clem_nir_009.ti\"              2007-06-13T12:27:02\n",
      "\"clem_uvvis_008.ti\"            2007-06-13T12:27:02\n",
      "\"naif0008.tls\"                 2007-06-13T12:27:02\n",
      "\"moon_pa_de403_1950_2198.bpc\"  2007-06-13T12:27:02\n",
      "\"pck00008.tpc\"                 2007-06-13T12:27:03\n",
      "\"clem_nom.tsc\"                 2007-06-13T12:27:04\n",
      "\"clem_gsfc.bsp\"                2007-06-13T12:27:04\n",
      "\"clem_jpl.bsp\"                 2007-06-13T12:27:09\n",
      "\"clem_nrl.bsp\"                 2007-06-13T12:27:11\n",
      "\"de414.bsp\"                    2007-06-13T12:27:13\n",
      "Empty DataFrame\n",
      "Columns: [Hash]\n",
      "Index: []\n"
     ]
    }
   ],
   "source": [
    "def create_datedf(directory):\n",
    "    if not os.path.exists(directory):\n",
    "        print(\"Error: Directory '\" + directory + \"' does not exist.\")\n",
    "        return\n",
    "    \n",
    "    fnames = []\n",
    "    dates = []\n",
    "    \n",
    "    for root, subdir, files in os.walk(directory):\n",
    "        for name in files:\n",
    "            if name.endswith(\".lbl\"): # only parse labels\n",
    "                filepath = os.path.join(root, name)\n",
    "                file = io.open(filepath,'r')\n",
    "                line = file.readline()\n",
    "                product_id = \"\"\n",
    "                product_time = \"\"\n",
    "                \n",
    "                # check for file kernel being pointed to \n",
    "                while line:\n",
    "                    if line.startswith(\"PRODUCT_ID\"):\n",
    "                        product_id = line.split(\"= \")[1].strip()\n",
    "                    if line.startswith(\"PRODUCT_CREATION_TIME\"):\n",
    "                        product_time = line.split(\"= \")[1].strip()\n",
    "                    line = file.readline()\n",
    "                    \n",
    "                if product_id and product_time:\n",
    "                    fnames.append(product_id)\n",
    "                    dates.append(product_time)\n",
    "                    \n",
    "    df = pd.DataFrame(data=dates, index = fnames, columns = [\"Hash\"])\n",
    "    df.index.name = directory\n",
    "    return df\n",
    "\n",
    "dir1_dates = create_datedf(\"./testdir1\")\n",
    "dir2_dates = create_datedf(\"./testdir2\")\n",
    "print(dir1_dates)\n",
    "print(dir2_dates)"
   ]
  },
  {
   "cell_type": "code",
   "execution_count": 17,
   "metadata": {
    "collapsed": true
   },
   "outputs": [],
   "source": [
    "def synchronize_directory(dir1, dir2):\n",
    "    dir1hash = farmhash.hash64(str(dir1.values))\n",
    "    dir2hash = farmhash.hash64(str(dir2.values))\n",
    "    if dir1hash == dir2hash:\n",
    "        print(\"Directories are identical\")\n",
    "        return\n",
    "    else:\n",
    "        print(\"Synchronizing Directories: rsync -av \" + dir1.index.name + \"/ \" + dir2.index.name + \"/\")\n",
    "        os.system(\"rsync -av \" + dir1.index.name + \"/ \" + dir2.index.name + \"/\")\n",
    "        \n",
    "#         for fn in dir1.index:\n",
    "#             if fn in dir2.index:\n",
    "#                 if dir1[\"Hash\"][fn] != dir2[\"Hash\"][fn] :\n",
    "#                     os.system(\"cp \" + dir1.index.name + fn + \" \" + dir2.index.name + fn)\n",
    "#         else: \n",
    "#             print(\"cp \" + dir1.index.name + fn + \" \" + dir2.index.name + fn)\n",
    "#             os.system(\"cp \" + dir1.index.name + fn + \" \" + dir2.index.name + fn)\n",
    "\n",
    "\n",
    "        ## From Remote -> local\n",
    "        ## RSYNC Command: rsync -av remotehost@ipaddr:Filepath/to/sync ~/localfilepath/to/sync\n",
    "        \n",
    "        ## From Local -> Remote\n",
    "        ## RSYNC Command: rsync -av ~/localfilepath/to/sync remotehost@ipaddr:Filepath/to/sync"
   ]
  },
  {
   "cell_type": "code",
   "execution_count": 18,
   "metadata": {},
   "outputs": [
    {
     "name": "stdout",
     "output_type": "stream",
     "text": [
      "Synchronizing Directories: rsync -av ./testdir1/ ./testdir2/\n"
     ]
    }
   ],
   "source": [
    "synchronize_directory(dir1df, dir2df)"
   ]
  },
  {
   "cell_type": "code",
   "execution_count": 302,
   "metadata": {},
   "outputs": [
    {
     "name": "stdout",
     "output_type": "stream",
     "text": [
      "                                           Hash\n",
      "./testdir1                                     \n",
      "/testfile1.txt              2453564951503530004\n",
      "/testfile2.txt             12316122424624457986\n",
      "/testfile3.txt             11557512894821542172\n",
      "/testfile4.txt             18391644498650419282\n",
      "/testdir1A/testfile1A.txt  10345096838406707354\n",
      "                                           Hash\n",
      "./testdir2                                     \n",
      "/testfile1.txt              2453564951503530004\n",
      "/testfile2.txt             12316122424624457986\n",
      "/testfile3.txt             11557512894821542172\n",
      "/testfile4.txt             18391644498650419282\n",
      "/testdir1A/testfile1A.txt  10345096838406707354\n",
      "Directories are identical\n"
     ]
    }
   ],
   "source": [
    "# The directories are now identical\n",
    "dir1df_after = create_dirdf(\"./testdir1\")\n",
    "dir2df_after = create_dirdf(\"./testdir2\")\n",
    "print(dir1df_after)\n",
    "print(dir2df_after)\n",
    "synchronize_directory(dir1df_after, dir2df_after)"
   ]
  },
  {
   "cell_type": "code",
   "execution_count": null,
   "metadata": {
    "collapsed": true
   },
   "outputs": [],
   "source": []
  }
 ],
 "metadata": {
  "kernelspec": {
   "display_name": "Python 3",
   "language": "python",
   "name": "python3"
  },
  "language_info": {
   "codemirror_mode": {
    "name": "ipython",
    "version": 3
   },
   "file_extension": ".py",
   "mimetype": "text/x-python",
   "name": "python",
   "nbconvert_exporter": "python",
   "pygments_lexer": "ipython3",
   "version": "3.6.1"
  }
 },
 "nbformat": 4,
 "nbformat_minor": 2
}
