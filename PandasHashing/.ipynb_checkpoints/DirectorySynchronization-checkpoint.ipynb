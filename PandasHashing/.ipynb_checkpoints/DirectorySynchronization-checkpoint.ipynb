{
 "cells": [
  {
   "cell_type": "code",
   "execution_count": 1,
   "metadata": {
    "collapsed": true
   },
   "outputs": [],
   "source": [
    "# Demo for synchronization of two data directories\n",
    "import os\n",
    "import pandas as pd\n",
    "import numpy as np\n",
    "import farmhash"
   ]
  },
  {
   "cell_type": "code",
   "execution_count": 2,
   "metadata": {
    "collapsed": true
   },
   "outputs": [],
   "source": [
    "def create_dirdf(directory):\n",
    "    if not os.path.exists(directory):\n",
    "        print(\"Error: Directory '\" + directory + \"' does not exist.\")\n",
    "        return\n",
    "    \n",
    "    filenames = []\n",
    "    hashvalues = []\n",
    "    \n",
    "    for root, subdir, files in os.walk(directory):\n",
    "        for name in files:\n",
    "            if not name[0] == \".\": # ignore hidden files\n",
    "                filepath = os.path.join(root, name)\n",
    "                file = open(filepath).read()\n",
    "                filenames.append(filepath.split(directory, 1)[1])\n",
    "                hashvalues.append(farmhash.hash64(file))\n",
    "    df = pd.DataFrame(data=hashvalues, index = filenames, columns = [\"Hash\"])\n",
    "    df.index.name = directory\n",
    "    return df"
   ]
  },
  {
   "cell_type": "code",
   "execution_count": 3,
   "metadata": {},
   "outputs": [
    {
     "name": "stdout",
     "output_type": "stream",
     "text": [
      "                                           Hash\n",
      "./testdir1                                     \n",
      "/testfile1.txt              2453564951503530004\n",
      "/testfile2.txt             12316122424624457986\n",
      "/testfile3.txt             11557512894821542172\n",
      "/testfile4.txt             18391644498650419282\n",
      "/testdir1A/testfile1A.txt  10345096838406707354\n",
      "                                           Hash\n",
      "./testdir2                                     \n",
      "/testfile1.txt              2453564951503530004\n",
      "/testfile2.txt             12316122424624457986\n",
      "/testfile3.txt             11557512894821542172\n",
      "/testfile4.txt             18391644498650419282\n",
      "/testdir1A/testfile1A.txt  10345096838406707354\n"
     ]
    }
   ],
   "source": [
    "dir1df = create_dirdf(\"./testdir1\")\n",
    "dir2df = create_dirdf(\"./testdir2\")\n",
    "print(dir1df)\n",
    "print(dir2df)"
   ]
  },
  {
   "cell_type": "code",
   "execution_count": 4,
   "metadata": {
    "collapsed": true
   },
   "outputs": [],
   "source": [
    "def synchronize_directory(dir1, dir2):\n",
    "    dir1hash = farmhash.hash64(str(dir1.values))\n",
    "    dir2hash = farmhash.hash64(str(dir2.values))\n",
    "    if dir1hash == dir2hash:\n",
    "        print(\"Directories are identical\")\n",
    "        return\n",
    "    else:\n",
    "        print(\"Synchronizing Directories: rsync -av \" + dir1.index.name + \"/ \" + dir2.index.name + \"/\")\n",
    "        os.system(\"rsync -av \" + dir1.index.name + \"/ \" + dir2.index.name + \"/\")\n",
    "        \n",
    "#         for fn in dir1.index:\n",
    "#             if fn in dir2.index:\n",
    "#                 if dir1[\"Hash\"][fn] != dir2[\"Hash\"][fn] :\n",
    "#                     os.system(\"cp \" + dir1.index.name + fn + \" \" + dir2.index.name + fn)\n",
    "#         else: \n",
    "#             print(\"cp \" + dir1.index.name + fn + \" \" + dir2.index.name + fn)\n",
    "#             os.system(\"cp \" + dir1.index.name + fn + \" \" + dir2.index.name + fn)\n",
    "\n",
    "\n",
    "        ## From Remote -> local\n",
    "        ## RSYNC Command: rsync -av remotehost@ipaddr:Filepath/to/sync ~/localfilepath/to/sync\n",
    "        \n",
    "        ## From Local -> Remote\n",
    "        ## RSYNC Command: rsync -av ~/localfilepath/to/sync remotehost@ipaddr:Filepath/to/sync"
   ]
  },
  {
   "cell_type": "code",
   "execution_count": 5,
   "metadata": {},
   "outputs": [
    {
     "name": "stdout",
     "output_type": "stream",
     "text": [
      "Directories are identical\n"
     ]
    }
   ],
   "source": [
    "synchronize_directory(dir1df, dir2df)"
   ]
  },
  {
   "cell_type": "code",
   "execution_count": 302,
   "metadata": {},
   "outputs": [
    {
     "name": "stdout",
     "output_type": "stream",
     "text": [
      "                                           Hash\n",
      "./testdir1                                     \n",
      "/testfile1.txt              2453564951503530004\n",
      "/testfile2.txt             12316122424624457986\n",
      "/testfile3.txt             11557512894821542172\n",
      "/testfile4.txt             18391644498650419282\n",
      "/testdir1A/testfile1A.txt  10345096838406707354\n",
      "                                           Hash\n",
      "./testdir2                                     \n",
      "/testfile1.txt              2453564951503530004\n",
      "/testfile2.txt             12316122424624457986\n",
      "/testfile3.txt             11557512894821542172\n",
      "/testfile4.txt             18391644498650419282\n",
      "/testdir1A/testfile1A.txt  10345096838406707354\n",
      "Directories are identical\n"
     ]
    }
   ],
   "source": [
    "# The directories are now identical\n",
    "dir1df_after = create_dirdf(\"./testdir1\")\n",
    "dir2df_after = create_dirdf(\"./testdir2\")\n",
    "print(dir1df_after)\n",
    "print(dir2df_after)\n",
    "synchronize_directory(dir1df_after, dir2df_after)"
   ]
  },
  {
   "cell_type": "code",
   "execution_count": null,
   "metadata": {
    "collapsed": true
   },
   "outputs": [],
   "source": []
  }
 ],
 "metadata": {
  "kernelspec": {
   "display_name": "Python 3",
   "language": "python",
   "name": "python3"
  },
  "language_info": {
   "codemirror_mode": {
    "name": "ipython",
    "version": 3
   },
   "file_extension": ".py",
   "mimetype": "text/x-python",
   "name": "python",
   "nbconvert_exporter": "python",
   "pygments_lexer": "ipython3",
   "version": "3.6.1"
  }
 },
 "nbformat": 4,
 "nbformat_minor": 2
}
