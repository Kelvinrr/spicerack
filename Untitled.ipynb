{
 "cells": [
  {
   "cell_type": "code",
   "execution_count": 8,
   "metadata": {},
   "outputs": [],
   "source": [
    "import os \n",
    "from glob import glob \n",
    "\n",
    "def get_metakernels(missions={}, years={}, versions={}):\n",
    "    spice_dir = os.environ.get(\"SPICE_DATA\")\n",
    "    \n",
    "    print(spice_dir)\n",
    "    \n",
    "    avail_missions = {os.path.basename(directory.split('_')[0]) for directory in glob(os.path.join(spice_dir, '*'))}\n",
    "    missions = avail_missions - missions\n",
    "    \n",
    "    for mission in missions\n",
    "    \n",
    "def get_avail_metakernels():\n",
    "    spice_dir = os.environ.get(\"SPICE_DATA\")\n",
    "    \n",
    "    avail = {}\n",
    "    mission_dirs = glob(os.path.join(spice_dir, '*'))\n",
    "    for md in mission_dirs:\n",
    "        # Assuming mission dirs are in the form \"{mission}_spice\"\n",
    "        mission = os.path.basename(md).split('_')[0]\n",
    "        metakernels = os.path.join(md, '*', 'extras', 'mk')\n",
    "        "
   ]
  },
  {
   "cell_type": "code",
   "execution_count": 9,
   "metadata": {},
   "outputs": [
    {
     "name": "stdout",
     "output_type": "stream",
     "text": [
      "/data/big/repos/spicedata\n",
      "{'messenger'}\n"
     ]
    }
   ],
   "source": [
    "get_metakernels()"
   ]
  },
  {
   "cell_type": "code",
   "execution_count": null,
   "metadata": {},
   "outputs": [],
   "source": []
  },
  {
   "cell_type": "code",
   "execution_count": null,
   "metadata": {},
   "outputs": [],
   "source": []
  },
  {
   "cell_type": "code",
   "execution_count": null,
   "metadata": {},
   "outputs": [],
   "source": []
  }
 ],
 "metadata": {
  "kernelspec": {
   "display_name": "Python 3",
   "language": "python",
   "name": "python3"
  },
  "language_info": {
   "codemirror_mode": {
    "name": "ipython",
    "version": 3
   },
   "file_extension": ".py",
   "mimetype": "text/x-python",
   "name": "python",
   "nbconvert_exporter": "python",
   "pygments_lexer": "ipython3",
   "version": "3.6.6"
  }
 },
 "nbformat": 4,
 "nbformat_minor": 2
}
